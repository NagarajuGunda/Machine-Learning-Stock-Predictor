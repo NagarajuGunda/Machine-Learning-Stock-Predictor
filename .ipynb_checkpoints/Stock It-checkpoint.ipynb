{
 "cells": [
  {
   "cell_type": "markdown",
   "metadata": {},
   "source": [
    "# Dependencies"
   ]
  },
  {
   "cell_type": "code",
   "execution_count": null,
   "metadata": {
    "collapsed": true
   },
   "outputs": [],
   "source": [
    "# Author: Khoi Hoang\n",
    "# Contact: hoanganhkhoil@gmail.com\n",
    "# Project: Stock It - predict stock price in the next 30 days by analyzing data available in the market\n",
    "\n",
    "import pandas as pd\n",
    "import quandl, math, datetime, time\n",
    "import numpy as np\n",
    "import matplotlib.pyplot as plt\n",
    "from sklearn import preprocessing, cross_validation, svm\n",
    "from sklearn.linear_model import LinearRegression\n",
    "from matplotlib import style\n",
    "\n",
    "style.use('ggplot')"
   ]
  },
  {
   "cell_type": "markdown",
   "metadata": {},
   "source": [
    "# Data Pre-processing"
   ]
  },
  {
   "cell_type": "code",
   "execution_count": 2,
   "metadata": {},
   "outputs": [
    {
     "name": "stdout",
     "output_type": "stream",
     "text": [
      "Predicted stock price: \n",
      "\n",
      "[ 1004.89534981  1003.70599043  1005.66093734  1008.95645847   979.04869845\n",
      "   976.58369907   960.91634994   969.2499751    956.04789678   958.64249428\n",
      "   958.52102075   952.36727877   958.07208906   958.26810211   956.11849104\n",
      "   952.03658225   934.56530515   941.62468102   951.3924723    950.62890462\n",
      "   956.23143171   938.82737688   938.44731988   932.91150964   951.38093451\n",
      "   954.55075511   948.22217971   942.49938038   940.38150077   946.51243434\n",
      "   955.38268326   966.9036611    964.35008511] \n",
      "\n",
      "Accuracy:  0.973382738749\n"
     ]
    }
   ],
   "source": [
    "# Set up API key for Quandl\n",
    "quandl.ApiConfig.api_key = \"be5SZkRrasSKCSV4arkn\"\n",
    "\n",
    "# Get dataset from Quandl\n",
    "data = quandl.get('WIKI/GOOGL')\n",
    "\n",
    "# Get High - Low price percent change\n",
    "data['HL_PCT'] = (data['Adj. High'] - data['Adj. Low']) / data['Adj. Low'] * 100\n",
    "\n",
    "# Get Close - Open price percent change\n",
    "data['PCT_change'] = (data['Adj. Close'] - data['Adj. Open']) / data['Adj. Open'] * 100\n",
    "\n",
    "# Minimize number of feature from 12 to 4 (Adj. Close, HL_PCT, PCT_change, Adj. Volume)\n",
    "data = data[['Adj. Close', 'HL_PCT', 'PCT_change', 'Adj. Volume']]\n",
    "\n",
    "# Name the forecast column\n",
    "forecast_col = 'Adj. Close'\n",
    "\n",
    "# Days in future you want to predict the price ( ~33 days)\n",
    "Days_in_future = int(math.ceil(0.01*len(data)))\n",
    "\n",
    "# Fill Not Available data with -9999\n",
    "data.fillna(-9999, inplace = True)\n",
    "data.dropna(inplace = True)\n",
    "\n",
    "\n",
    "# Price in future (shift the price column in 33 days ahead in the dataset)\n",
    "# so the last 33 days in the dataset will not have a label.\n",
    "data['Price'] = data[forecast_col].shift(-Days_in_future)\n",
    "\n",
    "\n",
    "# Prepare X and y\n",
    "X = np.array(data.drop(['Price'],1))\n",
    "y = np.array(data['Price'])\n",
    "\n",
    "# Feature Scaling\n",
    "X = preprocessing.scale(X)\n",
    "\n",
    "# Get data with no label to actually predict the label\n",
    "X_predict = X[-Days_in_future:]\n",
    "\n",
    "# Get data up to the predictable date (with label) to train the algorithm\n",
    "X = X[:-Days_in_future]\n",
    "y = y[:-Days_in_future]\n",
    "\n",
    "\n",
    "# Create training data & testing data\n",
    "X_train, X_test, y_train, y_test = cross_validation.train_test_split(X,y, test_size=0.2)\n",
    "\n",
    "# Create classifier - using Linear Regression\n",
    "clf = LinearRegression()\n",
    "\n",
    "#clf = svm.SVR() - default Kernel\n",
    "#clf = svm.SVR(kernel='poly') - using Polynomial Kernel\n",
    "\n",
    "# Training data\n",
    "clf.fit(X_train, y_train)\n",
    "\n",
    "\n",
    "# Testing data\n",
    "accuracy = clf.score(X_test, y_test)\n",
    "\n",
    "# Predict data\n",
    "predictions = clf.predict(X_predict)\n",
    "\n",
    "print (\"Predicted stock price: \\n\")\n",
    "print (predictions, \"\\n\")\n",
    "\n",
    "print (\"Accuracy: \", accuracy)"
   ]
  },
  {
   "cell_type": "markdown",
   "metadata": {},
   "source": [
    "# Date & Time"
   ]
  },
  {
   "cell_type": "code",
   "execution_count": 3,
   "metadata": {
    "collapsed": true
   },
   "outputs": [],
   "source": [
    "data['Forecast'] = np.nan\n",
    "\n",
    "last_date = data.iloc[-1].name\n",
    "last_unix = (last_date - datetime.datetime(1970,1,1)).total_seconds() # Convert date to second\n",
    "one_day = 86400\n",
    "next_unix = last_unix + one_day\n",
    "\n",
    "\n",
    "for i in predictions:\n",
    "    next_date = datetime.datetime.fromtimestamp(next_unix)\n",
    "    next_unix += one_day\n",
    "    data.loc[next_date] = [np.nan for _ in range(len(data.columns)-1)] + [i]\n",
    "\n"
   ]
  },
  {
   "cell_type": "markdown",
   "metadata": {},
   "source": [
    "# Visualization"
   ]
  },
  {
   "cell_type": "code",
   "execution_count": 4,
   "metadata": {},
   "outputs": [
    {
     "data": {
      "image/png": "[encoded data removed]",
      "text/plain": [
       "<matplotlib.figure.Figure at 0x11d382a90>"
      ]
     },
     "metadata": {},
     "output_type": "display_data"
    },
    {
     "name": "stdout",
     "output_type": "stream",
     "text": [
      "Accuracy:  0.973382738749\n"
     ]
    }
   ],
   "source": [
    "# # Visualize the graph\n",
    "data['Actual Price'] = data['Adj. Close']\n",
    "data['Actual Price'].plot()\n",
    "data['Forecast'].plot()\n",
    "plt.legend(loc=4)\n",
    "plt.xlabel('Date')\n",
    "plt.ylabel('Price')\n",
    "plt.show()\n",
    "print (\"Accuracy: \", accuracy)"
   ]
  },
  {
   "cell_type": "markdown",
   "metadata": {
    "collapsed": true
   },
   "source": [
    "<img src=\"Files/stock.png\">"
   ]
  },
  {
   "cell_type": "code",
   "execution_count": null,
   "metadata": {
    "collapsed": true
   },
   "outputs": [],
   "source": []
  }
 ],
 "metadata": {
  "kernelspec": {
   "display_name": "Python 3",
   "language": "python",
   "name": "python3"
  },
  "language_info": {
   "codemirror_mode": {
    "name": "ipython",
    "version": 3
   },
   "file_extension": ".py",
   "mimetype": "text/x-python",
   "name": "python",
   "nbconvert_exporter": "python",
   "pygments_lexer": "ipython3",
   "version": "3.6.1"
  }
 },
 "nbformat": 4,
 "nbformat_minor": 2
}
